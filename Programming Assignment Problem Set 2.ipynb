{
 "cells": [
  {
   "cell_type": "markdown",
   "metadata": {},
   "source": [
    "## Problem 1 : Longest Stable Subsequence\n",
    "Consider a list of numbers  [𝑎0,𝑎1,⋯,𝑎𝑛−1]\n",
    " . Our goal is to find the the longest stable subsequence:  [𝑎𝑖1,𝑎𝑖2,⋯,𝑎𝑖𝑘]\n",
    "  which is a sub-list of the original list that selects elements at indices  𝑖1,𝑖2,…,𝑖𝑘\n",
    "  from the original list such that\n",
    "\n",
    "𝑖1<𝑖2<⋯<𝑖𝑘\n",
    " ;\n",
    "𝑎𝑖𝑗+1−1≤𝑎𝑖𝑗≤𝑎𝑖𝑗+1+1\n",
    " . We can also write this as  |𝑎𝑖𝑗+1−𝑎𝑖𝑗|≤1\n",
    " . I.e, each element of the subsequence must be within  ±1\n",
    "  or equal to the previous element.\n",
    "The length of the subsequence  𝑘\n",
    "  is maximized.\n",
    "Example\n",
    "Consider the list [1, 4, 2, -2, 0, -1, 2, 3]. There are many \"stable subsequences\":\n",
    "\n",
    "[1, 0, -1]\n",
    "[1, 2, 2, 3]\n",
    "[4, 3]\n",
    "The longest stable subsequence is [1, 2, 2, 3] of length 4. Note that each element of the subsequence is at most  1\n",
    "  away from the previous element.\n",
    "\n",
    "The goal of this problem is to formulate a dynamic programming solution to find the length of the longest stable subsequence and the subsequence itself.\n",
    "\n",
    "A: Write a Recurrence With Base Case\n",
    "Let 𝑛\n",
    " be the length of the original array [𝑎0,…,𝑎𝑛−1]\n",
    ". Define\n",
    "𝖫𝖲𝖲𝖫𝖾𝗇𝗀𝗍𝗁(𝑖,𝑎𝑗)\n",
    "to be the length of the longest stable subsequence for the subarray from [𝑎𝑖,…,𝑎𝑛−1]\n",
    " (note that 𝑎𝑖\n",
    " is included) with the additional constraint that the first element in the subsequence chosen (let us call it 𝑎𝑖1\n",
    ") must satisfy\n",
    "|𝑎𝑖1−𝑎𝑗|≤1\n",
    ".\n",
    "\n",
    "Notes\n",
    "\n",
    "0≤𝑖≤𝑛\n",
    ". 𝑖=𝑛\n",
    " denotes the empty subarray.\n",
    "𝑎𝑗\n",
    " represents a previous choice we have made before encountering the current subproblem. It is made an argument of the recurrence to ensure that the subsequent choice made from [𝑎𝑖,…,𝑎𝑛−1]\n",
    " satisfies |𝑎−𝑎𝑗|≤1\n",
    ".\n",
    "We will use the special value 𝑎𝑗=𝖭𝗈𝗇𝖾\n",
    " to denote that no such element 𝑎𝑗\n",
    " has been chosen.\n",
    "Fill out the missing portion of the recurrence and base cases. We will not grade your answer below. Instead please use it as a guide to complete the code for the recurrence and pass the test cases provided.\n",
    "\n",
    "𝖫𝖲𝖲𝖫𝖾𝗇𝗀𝗍𝗁(𝑖,𝑎𝑗)=??𝖫𝖲𝖲𝖫𝖾𝗇𝗀𝗍𝗁(𝑖+1,𝑎𝑗)max(???+1,???)𝑖=𝑛𝑖<𝑛 and 𝑎𝑗≠None and |𝑎𝑖−𝑎𝑗|>1𝑖<𝑛 and (𝑎𝑗=None or |𝑎𝑖−𝑎𝑗|≤1)# Base Case when subarray is empty# We cannot choose a[i], skip it and move right along# Choose maximum of two options: take a[i] or skip a[i]\n",
    "YOUR ANSWER HERE\n"
   ]
  },
  {
   "cell_type": "code",
   "execution_count": 1,
   "metadata": {},
   "outputs": [],
   "source": [
    "def lssLength(a, i, j):\n",
    "    aj = a[j] if 0 <= j < len(a) else None \n",
    "    if i == len(a):  # Base Case when subarray is empty\n",
    "        return 0\n",
    "    if i < len(a) and aj is not None and abs(a[i] - aj) > 1:  # We cannot choose a[i], skip it and move right along\n",
    "        return lssLength(a, i + 1, j)\n",
    "    return max(lssLength(a, i + 1, i) + 1, lssLength(a, i + 1, j))\n",
    "    "
   ]
  },
  {
   "cell_type": "markdown",
   "metadata": {},
   "source": [
    "# PRESS CTRL+ENTER"
   ]
  },
  {
   "cell_type": "code",
   "execution_count": null,
   "metadata": {},
   "outputs": [],
   "source": [
    "print('--Test1--')\n",
    "n1 = lssLength([1, 4, 2, -2, 0, -1, 2, 3],0, -1)\n",
    "print(n1)\n",
    "assert n1== 4, f'Test 1 failed: expected answer 4, your code: {n1}'\n",
    "print('passed')\n",
    "\n",
    "print('--Test2--')\n",
    "n2 = lssLength([1, 2, 3, 4, 0, 1, -1, -2, -3, -4, 5, -5, -6], 0, -1)\n",
    "print(n2)\n",
    "assert n2 == 8, f'Test 2 failed: expected answer 8, your code: {n2}'\n",
    "\n",
    "print('--Test3--')\n",
    "n3 = lssLength([0,2, 4, 6, 8, 10, 12],0, -1)\n",
    "print(n3)\n",
    "assert n3 == 1, f'Test 3 failed: expected answer 1, your code: {n3}'\n",
    "\n",
    "\n",
    "print('--Test 4--')\n",
    "n4 = lssLength([4,8, 7, 5, 3, 2, 5, 6, 7, 1, 3, -1, 0, -2, -3, 0, 1, 2, 1, 3, 1, 0, -1, 2, 4, 5, 0, 2, -3, -9, -4, -2, -3, -1], 0, -1)\n",
    "print(n4)\n",
    "assert n4 == 14, f'Test 4 failed: expected answer 14, your code: {n4}'\n",
    "\n",
    "print('All Tests Passed (8 points)')"
   ]
  },
  {
   "cell_type": "markdown",
   "metadata": {},
   "source": [
    "# PRESS CTRL+ENTER"
   ]
  },
  {
   "cell_type": "markdown",
   "metadata": {},
   "source": [
    "#### Part 2: Memoize the Recurrence\n",
    "Construct a memo table as a dictionary that maps from (i,j) where 0 <= i <= n and -1 <= j < i to the value  𝖫𝖲𝖲𝖫𝖾𝗇𝗀𝗍𝗁(𝑎,𝑖,𝑎𝑗)\n",
    "  where  𝑎𝑗=𝑎[𝑗]\n",
    "  if  𝑗≥0\n",
    "  else  𝑎𝑗=None\n",
    " .\n",
    "\n",
    "Your code should run in worst case time  Θ(𝑛2)\n",
    " ."
   ]
  },
  {
   "cell_type": "code",
   "execution_count": 2,
   "metadata": {},
   "outputs": [],
   "source": [
    "def memoizeLSS(a):\n",
    "    T = {} \n",
    "    n = len(a)\n",
    "    for j in range(-1, n):\n",
    "        T[(n, j)] = 0 # i = n and j \n",
    "        \n",
    "    for i in range(0, n+1):\n",
    "        for j in range(-1, n+1):\n",
    "            T[(i, j)] = 0\n",
    "\n",
    "    for i in range(n-1, -1, -1):\n",
    "        for j in range(n-1, -1, -1):\n",
    "            aj = a[j] if 0 <= j < len(a) else None \n",
    "            if aj != None and abs(a[i] - a[j]) > 1:\n",
    "                T[(i, j)] = T[(i + 1, j)]\n",
    "            elif aj == None or abs(a[i] - a[j]) <= 1:\n",
    "                T[(i, j)] = max(T[(i + 1, i)] + 1, T[(i + 1, j)])\n",
    "\n",
    "    for i in range(n-2, -1, -1):\n",
    "        T[(i, -1)] = max(T[(i+1, -1)], T[(i+1, 0)], T[(i, 0)], 0)\n",
    "        \n",
    "    return T"
   ]
  },
  {
   "cell_type": "markdown",
   "metadata": {},
   "source": [
    "# PRESS CTRL+ENTER"
   ]
  },
  {
   "cell_type": "code",
   "execution_count": 3,
   "metadata": {},
   "outputs": [
    {
     "name": "stdout",
     "output_type": "stream",
     "text": [
      "-- Test 1 -- \n",
      "[1, 4, 2, -2, 0, -1, 2, 3]\n",
      "Passed\n",
      "--Test2--\n",
      "[1, 2, 3, 4, 0, 1, -1, -2, -3, -4, 5, -5, -6]\n",
      "--Test3--\n",
      "[0, 2, 4, 6, 8, 10, 12]\n",
      "--Test4--\n",
      "[4, 8, 7, 5, 3, 2, 5, 6, 7, 1, 3, -1, 0, -2, -3, 0, 1, 2, 1, 3, 1, 0, -1, 2, 4, 5, 0, 2, -3, -9, -4, -2, -3, -1]\n",
      "All tests passed (7 points)\n"
     ]
    }
   ],
   "source": [
    "def lssLength(a, i, j):\n",
    "    assert False, 'Redefining lssLength: You should not be calling this function from your memoization code'\n",
    "\n",
    "def checkMemoTableHasEntries(a, T):\n",
    "    for i in range(len(a)+1):\n",
    "        for j in range(i):\n",
    "            assert (i, j) in T, f'entry for {(i,j)} not in memo table'\n",
    "            \n",
    "def checkMemoTableBaseCase(a, T):\n",
    "    n = len(a)\n",
    "    for j in range(-1, n):\n",
    "        assert T[(n, j)] == 0, f'entry for {(n,j)} is not zero as expected'\n",
    "        \n",
    "print('-- Test 1 -- ')\n",
    "a1 = [1, 4, 2, -2, 0, -1, 2, 3]\n",
    "print(a1)\n",
    "T1 = memoizeLSS(a1)\n",
    "checkMemoTableHasEntries(a1, T1)\n",
    "checkMemoTableBaseCase(a1, T1)\n",
    "assert T1[(0, -1)] == 4, f'Test 1: Expected answer is 4. your code returns {T1[(0, -1)]}'\n",
    "print('Passed')\n",
    "\n",
    "\n",
    "print('--Test2--')\n",
    "a2 = [1, 2, 3, 4, 0, 1, -1, -2, -3, -4, 5, -5, -6]\n",
    "print(a2)\n",
    "T2 = memoizeLSS(a2)\n",
    "checkMemoTableHasEntries(a2, T2)\n",
    "checkMemoTableBaseCase(a2, T2)\n",
    "assert T2[(0, -1)] == 8, f'Test 2: Expected answer is 8. Your code returns {T2[(0, -1)]}'\n",
    "\n",
    "print('--Test3--')\n",
    "a3 = [0,2, 4, 6, 8, 10, 12]\n",
    "print(a3)\n",
    "T3 = memoizeLSS(a3)\n",
    "checkMemoTableHasEntries(a3, T3)\n",
    "checkMemoTableBaseCase(a3, T3)\n",
    "assert T3[(0, -1)] == 1, f'Test 3: Expected answer is  1. Your code returns {T3[(0, -1)]}'\n",
    "\n",
    "\n",
    "print('--Test4--')\n",
    "a4 = [4,8, 7, 5, 3, 2, 5, 6, 7, 1, 3, -1, 0, -2, -3, 0, 1, 2, 1, 3, 1, 0, -1, 2, 4, 5, 0, 2, -3, -9, -4, -2, -3, -1]\n",
    "print(a4)\n",
    "T4 = memoizeLSS(a4)\n",
    "checkMemoTableHasEntries(a4, T4)\n",
    "checkMemoTableBaseCase(a4, T4)\n",
    "assert T4[(0, -1)] == 14, f'Text 4: Expected answer is 14. Your code returns {T4[(0,-1)]}'\n",
    "\n",
    "print('All tests passed (7 points)')"
   ]
  },
  {
   "cell_type": "markdown",
   "metadata": {},
   "source": [
    "# PRESS CTRL+ENTER"
   ]
  },
  {
   "cell_type": "markdown",
   "metadata": {},
   "source": [
    "#### Part 3: Modify Memoized Code to Recover Solution\n",
    "Write a function computeLSS(a) that modifies the memo table to allow you to recover the longest stable subsequence as well as its length. computeLSS should return the longest stable subsequence of the input a as a list."
   ]
  },
  {
   "cell_type": "code",
   "execution_count": 4,
   "metadata": {},
   "outputs": [],
   "source": [
    "def computeLSS(a):\n",
    "    # your code here\n",
    "    Table = memoizeLSS(a)\n",
    "    n = len(a)\n",
    "    i = 0\n",
    "    j = -1\n",
    "    substring = []\n",
    "    while i < n:\n",
    "        currentEntry = Table[(i,j)]\n",
    "        cellToRight = Table[(i+1, j)]\n",
    "        if currentEntry > cellToRight:\n",
    "            substring.append(a[i])\n",
    "            j = i\n",
    "    \n",
    "        i = i + 1\n",
    "    return substring"
   ]
  },
  {
   "cell_type": "markdown",
   "metadata": {},
   "source": [
    "# PRESS CTRL+ENTER"
   ]
  },
  {
   "cell_type": "code",
   "execution_count": 5,
   "metadata": {},
   "outputs": [
    {
     "name": "stdout",
     "output_type": "stream",
     "text": [
      "--Test 1 --\n",
      "[1, 4, 2, -2, 0, -1, 2, 3]\n",
      "sub1 = [1, 2, 2, 3]\n",
      "--Test2--\n",
      "[1, 2, 3, 4, 0, 1, -1, -2, -3, -4, 5, -5, -6]\n",
      "sub2 = [1, 0, -1, -2, -3, -4, -5, -6]\n",
      "--Test3--\n",
      "[0, 2, 4, 6, 8, 10, 12]\n",
      "sub3 = [0]\n",
      "--Test4--\n",
      "[4, 8, 7, 5, 3, 2, 5, 6, 7, 1, 3, -1, 0, -2, -3, 0, 1, 2, 1, 3, 1, 0, -1, 2, 4, 5, 0, 2, -3, -9, -4, -2, -3, -1]\n",
      "sub4 = [4, 3, 2, 1, 0, 0, 1, 2, 1, 1, 0, -1, -2, -1]\n",
      "All test passed (10 points)\n"
     ]
    }
   ],
   "source": [
    "## BEGIN TESTS \n",
    "def checkSubsequence(a, b):\n",
    "    i = 0\n",
    "    j = 0\n",
    "    n = len(a)\n",
    "    m = len(b)\n",
    "    for j in range(m-1):\n",
    "        assert abs(b[j] - b[j+1]) <= 1\n",
    "    while (i < n and j < m):\n",
    "        if a[i] == b[j]: \n",
    "            j = j + 1\n",
    "        i = i + 1\n",
    "    if j < m:\n",
    "        return False\n",
    "    return True \n",
    "\n",
    "print('--Test 1 --')\n",
    "a1 = [1, 4, 2, -2, 0, -1, 2, 3]\n",
    "print(a1)\n",
    "sub1 = computeLSS(a1)\n",
    "print(f'sub1 = {sub1}')\n",
    "assert len(sub1) == 4, f'Subsequence does not have length 4'\n",
    "assert checkSubsequence(a1, sub1), f'Your solution is not a subsequence of the original sequence'\n",
    "\n",
    "print('--Test2--')\n",
    "a2 = [1, 2, 3, 4, 0, 1, -1, -2, -3, -4, 5, -5, -6]\n",
    "print(a2)\n",
    "sub2 = computeLSS(a2)\n",
    "print(f'sub2 = {sub2}')\n",
    "assert len(sub2) == 8\n",
    "assert checkSubsequence(a2, sub2)\n",
    "\n",
    "print('--Test3--')\n",
    "a3 = [0,2, 4, 6, 8, 10, 12]\n",
    "print(a3)\n",
    "sub3 = computeLSS(a3)\n",
    "print(f'sub3 = {sub3}')\n",
    "assert len(sub3) == 1\n",
    "assert checkSubsequence(a3, sub3)\n",
    "\n",
    "\n",
    "\n",
    "print('--Test4--')\n",
    "a4 = [4,8, 7, 5, 3, 2, 5, 6, 7, 1, 3, -1, 0, -2, -3, 0, 1, 2, 1, 3, 1, 0, -1, 2, 4, 5, 0, 2, -3, -9, -4, -2, -3, -1]\n",
    "print(a4)\n",
    "sub4 = computeLSS(a4)\n",
    "print(f'sub4 = {sub4}')\n",
    "assert len(sub4) == 14\n",
    "assert checkSubsequence(a4, sub4)\n",
    "\n",
    "print('All test passed (10 points)')\n",
    "## END TESTS"
   ]
  },
  {
   "cell_type": "markdown",
   "metadata": {},
   "source": [
    "# PRESS CTRL+ENTER"
   ]
  },
  {
   "cell_type": "markdown",
   "metadata": {},
   "source": [
    "## Problem 2\n",
    "We are given a set of natural numbers 𝑆: {𝑛1,…,𝑛𝑘}\n",
    " and a target natural number 𝑁\n",
    ".\n",
    "\n",
    "Our goal is to choose a subset of numbers 𝑇: {𝑛𝑖1,…,𝑛𝑖𝑗}⊆𝑆\n",
    " such that:\n",
    "\n",
    "∑𝑗𝑙=1𝑛𝑖𝑙≤𝑁\n",
    ", the sum of chosen numbers is less than or equal to 𝑁\n",
    ",\n",
    "The difference 𝑁−∑𝑗𝑙=1𝑛𝑖𝑙\n",
    " is made as small as possible.\n",
    "For example, 𝑆={1,2,3,4,5,10}\n",
    " and 𝑁=20\n",
    " then\n",
    "\n",
    "Choosing 𝑇={1,2,3,4,5}\n",
    ", we have 1+2+3+4+5=15≤20\n",
    ", achieving a difference of 5\n",
    ".\n",
    "However, if we chose 𝑇={2,3,5,10}\n",
    " we obtain a sum of 2+3+5+10=20\n",
    " achieving the smallest possible difference of 0\n",
    ".\n",
    "Choosing 𝑇={2,3,4,5,10}\n",
    " is disallowed because 2+3+4+5+10=24>20\n",
    ".\n",
    "Therefore the problem is as follows:\n",
    "\n",
    "Inputs: list 𝑆:[𝑛1,…,𝑛𝑘]\n",
    " (assume that no element repeats in 𝑆\n",
    "), and number 𝑁\n",
    ".\n",
    "Output: a list 𝑇\n",
    " of elements from 𝑆\n",
    " such that sum of elements of 𝑇\n",
    " is ≤𝑁\n",
    " and 𝑁−∑𝑒∈𝑇𝑒\n",
    " is the smallest possible.\n",
    "The subsequent parts to this problem ask you to derive a dynamic programming solution to this problem.\n",
    "\n",
    "Note: Because 𝑆\n",
    " and 𝑇\n",
    " are viewed as sets, each element in the set may occur exactly once.\n",
    "\n",
    "Part (A) Write a recursive function\n",
    "Write down a recurrence: 𝗍𝖺𝗋𝗀𝖾𝗍𝖲𝗎𝗆({𝑆[𝑖],…,𝑆[𝑘]},𝑇̂ )\n",
    " that expresses the best possible solution to the sub problem where\n",
    "\n",
    "we choose a subset of 𝑆\n",
    " with elements from from 𝑆[𝑖]\n",
    " to 𝑆[𝑘]\n",
    " inclusive.\n",
    "\n",
    "If 𝑖>𝑘\n",
    ", we take that to be the empty set and\n",
    "\n",
    "𝑇̂ \n",
    " is the current target.\n",
    "\n",
    "Complete the missing portions of the definitions below.\n",
    "\n",
    "𝗍𝖺𝗋𝗀𝖾𝗍𝖲𝗎𝗆({𝑆[𝑖],…,𝑆[𝑘]},𝑇̂ )=??????min(???,???)𝑇̂ <0𝑖>𝑘 and 𝑇̂ ≥0otherwise\n",
    "YOUR ANSWER HERE"
   ]
  },
  {
   "cell_type": "code",
   "execution_count": 6,
   "metadata": {},
   "outputs": [],
   "source": [
    "def targetSum(S, i, tgt):\n",
    "    if tgt < 0:  # Overshot the target\n",
    "        return float('inf')\n",
    "    if i > len(S) - 1:  # Considered all elements\n",
    "        return tgt\n",
    "    # Two choices: include or exclude the current element\n",
    "    include = targetSum(S, i + 1, tgt - S[i])\n",
    "    exclude = targetSum(S, i + 1, tgt)\n",
    "    return min(include, exclude)"
   ]
  },
  {
   "cell_type": "markdown",
   "metadata": {},
   "source": [
    "# PRESS CTRL+ENTER"
   ]
  },
  {
   "cell_type": "code",
   "execution_count": 7,
   "metadata": {},
   "outputs": [
    {
     "name": "stdout",
     "output_type": "stream",
     "text": [
      "All tests passed (10 points)!\n"
     ]
    }
   ],
   "source": [
    "def tgtSum(tgt, S):\n",
    "    return targetSum(S, 0, tgt)\n",
    "\n",
    "t1 = tgtSum(15, [1, 2, 3, 4, 5, 10]) # Should be zero\n",
    "assert t1 == 0, 'Test 1 failed'\n",
    "\n",
    "t2 = tgtSum(26, [1, 2, 3, 4, 5, 10]) # should be 1\n",
    "assert t2 == 1, 'Test 2 failed'\n",
    "\n",
    "t3 = (tgtSum(23, [1, 2, 3, 4, 5, 10])) # should be 0\n",
    "assert t3 == 0, 'Test 3 failed'\n",
    "\n",
    "\n",
    "t4 = (tgtSum(18, [1, 2, 3, 4, 5, 10])) # should be 0\n",
    "assert t4 == 0, 'Test 4 failed'\n",
    "\n",
    "t5 = (tgtSum(9, [1, 2, 3, 4, 5, 10])) # should be 0\n",
    "assert t5 == 0, 'Test 5 failed'\n",
    "\n",
    "t6 = (tgtSum(457, [11, 23, 37, 48, 94, 152, 230, 312, 339, 413])) # should be 1\n",
    "assert t6 == 1, 'Test 6 failed'\n",
    "\n",
    "t7 = (tgtSum(512, [11, 23, 37, 48, 94, 152, 230, 312, 339, 413])) # should be 0\n",
    "assert t7 == 0, 'Test 7 failed'\n",
    "\n",
    "t8 = (tgtSum(616, [11, 23, 37, 48, 94, 152, 230, 312, 339, 413])) # should be 1\n",
    "assert t8 == 1, 'Test 8 failed'\n",
    "\n",
    "print('All tests passed (10 points)!')"
   ]
  },
  {
   "cell_type": "markdown",
   "metadata": {},
   "source": [
    "# PRESS CTRL+ENTER"
   ]
  },
  {
   "cell_type": "markdown",
   "metadata": {},
   "source": [
    "#### Part (B)\n",
    "Memoize your recurrence by using a memo table of the form  𝑇[(𝑖,𝑗)]\n",
    "  wherein  0≤𝑖≤𝑙𝑒𝑛(𝑆)\n",
    "  and  0≤𝑗≤𝗍𝗀𝗍\n",
    " . It may be helpful to add a function lookupMemoTable inside your code to help you handle lookups where  𝑗<0\n",
    " . Assume that the target satisfies tgt >= 0."
   ]
  },
  {
   "cell_type": "code",
   "execution_count": 8,
   "metadata": {},
   "outputs": [],
   "source": [
    "def lookupMemoTable(T, i, j):\n",
    "    if j < 0:\n",
    "        return float('inf') # Return positive infinity for invalid states\n",
    "    return T.get((i, j), None)\n",
    "\n",
    "def memoTargetSum(S, tgt):\n",
    "    k = len(S)\n",
    "    assert tgt >= 0\n",
    "    T = {} # Memo table initialized as empty dictionary\n",
    "    \n",
    "    # Base case: when i == k\n",
    "    for j in range(tgt + 1):\n",
    "        T[(k, j)] = j\n",
    "    \n",
    "    # Filling up the memo table using recurrence\n",
    "    for i in range(k - 1, -1, -1):\n",
    "        for j in range(tgt + 1):\n",
    "            T[(i, j)] = min(lookupMemoTable(T, i + 1, j - S[i]), lookupMemoTable(T, i + 1, j))\n",
    "    \n",
    "    return T\n"
   ]
  },
  {
   "cell_type": "markdown",
   "metadata": {},
   "source": [
    "# PRESS CTRL+ENTER"
   ]
  },
  {
   "cell_type": "code",
   "execution_count": 9,
   "metadata": {},
   "outputs": [
    {
     "name": "stdout",
     "output_type": "stream",
     "text": [
      "--test 1--\n",
      "[1, 2, 3, 4, 5, 10] 15\n",
      "--test 2--\n",
      "[1, 2, 3, 4, 5, 10] 26\n",
      "--test3--\n",
      "[11, 23, 37, 48, 94, 152, 230, 312, 339, 413] 457\n",
      "--test4--\n",
      "[11, 23, 37, 48, 94, 152, 230, 312, 339, 413] 512\n",
      "--test5--\n",
      "[11, 23, 37, 48, 94, 152, 230, 312, 339, 413] 616\n",
      "All tests passed (10 points)!\n"
     ]
    }
   ],
   "source": [
    "def checkMemoTblTargetSum(a, tgt, expected):\n",
    "    T = memoTargetSum(a, tgt)\n",
    "    for i in range(len(a)+1):\n",
    "        for j in range(tgt+1):\n",
    "            assert (i, j) in T, f'Memo table fails to have entry for i, j = {(i, j)}'\n",
    "    assert T[(0,tgt)] == expected, f'Expected answer = {expected}, your code returns {T[(0, tgt)]}'\n",
    "    return \n",
    "\n",
    "print('--test 1--')\n",
    "a1 = [1, 2, 3, 4, 5, 10]\n",
    "print(a1, 15)\n",
    "checkMemoTblTargetSum(a1, 15, 0)\n",
    "\n",
    "print('--test 2--')\n",
    "a2= [1, 2, 3, 4, 5, 10]\n",
    "print(a2, 26)\n",
    "checkMemoTblTargetSum(a2, 26, 1)\n",
    "\n",
    "print('--test3--')\n",
    "a3= [11, 23, 37, 48, 94, 152, 230, 312, 339, 413]\n",
    "print(a3, 457)\n",
    "checkMemoTblTargetSum(a3, 457, 1)\n",
    "\n",
    "print('--test4--')\n",
    "print(a3, 512)\n",
    "checkMemoTblTargetSum(a3, 512, 0)\n",
    "\n",
    "print('--test5--')\n",
    "print(a3, 616)\n",
    "checkMemoTblTargetSum(a3, 616, 1)\n",
    "print('All tests passed (10 points)!')\n"
   ]
  },
  {
   "cell_type": "markdown",
   "metadata": {},
   "source": [
    "# PRESS CTRL+ENTER"
   ]
  },
  {
   "cell_type": "markdown",
   "metadata": {},
   "source": [
    "#### Part (C)\n",
    "Modify your code in part B to record additional information so that you can recover the solution. Implement a function getBestTargetSum(S, tgt) that returns a new sub list T of S so that the sum of elements of T is less than or equal to tgt and is as close as possible to tgt."
   ]
  },
  {
   "cell_type": "code",
   "execution_count": 10,
   "metadata": {},
   "outputs": [],
   "source": [
    "def lookupMemoTable(T, i, j):\n",
    "    if j < 0:\n",
    "        return float('inf'), [] # Return positive infinity for invalid states\n",
    "    return T.get((i, j), (float('inf'), []))\n",
    "\n",
    "def memoTargetSum(S, tgt):\n",
    "    k = len(S)\n",
    "    assert tgt >= 0\n",
    "    T = {} # Memo table initialized as empty dictionary\n",
    "    \n",
    "    # Base case: when i == k\n",
    "    for j in range(tgt + 1):\n",
    "        T[(k, j)] = (j, [])\n",
    "    \n",
    "    # Filling up the memo table using recurrence\n",
    "    for i in range(k - 1, -1, -1):\n",
    "        for j in range(tgt + 1):\n",
    "            take_current = lookupMemoTable(T, i + 1, j - S[i])\n",
    "            skip_current = lookupMemoTable(T, i + 1, j)\n",
    "            \n",
    "            if take_current[0] <= skip_current[0]:\n",
    "                T[(i, j)] = (take_current[0], take_current[1] + [S[i]])\n",
    "            else:\n",
    "                T[(i, j)] = skip_current\n",
    "    \n",
    "    return T\n",
    "\n",
    "def getBestTargetSum(S, tgt):\n",
    "    T = memoTargetSum(S, tgt)\n",
    "    return T[(0, tgt)][1]"
   ]
  },
  {
   "cell_type": "markdown",
   "metadata": {},
   "source": [
    "# PRESS CTRL+ENTER"
   ]
  },
  {
   "cell_type": "code",
   "execution_count": 11,
   "metadata": {},
   "outputs": [
    {
     "name": "stdout",
     "output_type": "stream",
     "text": [
      "--test 1--\n",
      "[1, 2, 3, 4, 5, 10] 15\n",
      "Your result: [1, 2, 3, 4, 5]\n",
      "--test 2--\n",
      "[1, 8, 3, 4, 5, 12] 26\n",
      "Your result: [1, 5, 8, 12]\n",
      "--test 3--\n",
      "[8, 3, 2, 4, 5, 7, 12] 38\n",
      "Your result: [2, 4, 5, 7, 8, 12]\n",
      "--test 4 --\n",
      "[0, 1, 2, 7, 9, 10, 11, 12, 13, 14, 16, 17, 18, 19, 26, 29, 38, 45, 51, 82, 111, 124, 135, 189]\n",
      "Your result: [0, 1, 2, 7, 9, 10, 11, 12, 13, 16, 17, 19, 38]\n",
      "--test 5--\n",
      "Your result: [0, 1, 2, 7, 9, 10, 11, 12, 13, 14, 16, 17, 26, 51]\n",
      "--test 7--\n",
      "Your result: [0, 1, 2, 7, 9, 10, 11, 12, 13, 14, 16, 17, 18, 19, 29, 45, 124]\n",
      "--test 8--\n",
      "Your result: [0, 1, 2, 7, 9, 10, 11, 12, 13, 14, 16, 17, 18, 19, 26, 29, 51, 82, 124]\n",
      "--test 9--\n",
      "Your result: [0, 1, 2, 7, 9, 10, 11, 12, 13, 14, 16, 17, 18, 19, 26, 29, 38, 45, 51, 124]\n",
      "--test 9--\n",
      "Your result: [0, 1, 2, 7, 9, 10, 11, 12, 13, 14, 16, 17, 18, 19, 26, 29, 45, 51, 82, 135]\n",
      "--test 10--\n",
      "Your result: [0, 1, 2, 9, 10, 11, 12, 13, 14, 16, 17, 18, 19, 26, 29, 38, 45, 51, 82, 111, 124, 135, 189]\n",
      "All Tests Passed (15 points)\n"
     ]
    }
   ],
   "source": [
    "def checkTgtSumRes(a, tgt,expected):\n",
    "    a = sorted(a)\n",
    "    res = getBestTargetSum(a, tgt)\n",
    "    res = sorted(res)\n",
    "    print('Your result:' , res)\n",
    "    assert tgt - sum(res)  == expected, f'Your code returns result that sums up to {sum(res)}, expected was {expected}'\n",
    "    i = 0\n",
    "    j = 0\n",
    "    n = len(a)\n",
    "    m = len(res)\n",
    "    while (i < n and j < m):\n",
    "        if a[i] == res[j]: \n",
    "            j = j + 1\n",
    "        i = i + 1\n",
    "    assert j == m, 'Your result  {res} is not a subset of {a}'\n",
    "\n",
    "\n",
    "print('--test 1--')\n",
    "a1 = [1, 2, 3, 4, 5, 10]\n",
    "print(a1, 15)\n",
    "checkTgtSumRes(a1, 15, 0)\n",
    "\n",
    "print('--test 2--')\n",
    "a2 = [1, 8, 3, 4, 5, 12]\n",
    "print(a2, 26)\n",
    "checkTgtSumRes(a2, 26, 0)\n",
    "\n",
    "print('--test 3--')\n",
    "a3 = [8, 3, 2, 4, 5, 7, 12]\n",
    "print(a3, 38)\n",
    "checkTgtSumRes(a3, 38, 0)\n",
    "\n",
    "print('--test 4 --')\n",
    "a4 = sorted([1, 10, 19, 18, 12, 11, 0, 9,  16, 17, 2, 7, 14, 29, 38, 45, 13, 26, 51, 82, 111, 124, 135, 189])\n",
    "print(a4)\n",
    "checkTgtSumRes(a4, 155, 0)\n",
    "print('--test 5--')\n",
    "checkTgtSumRes(a4, 189, 0)\n",
    "\n",
    "print('--test 7--')\n",
    "checkTgtSumRes(a4, 347, 0)\n",
    "\n",
    "print('--test 8--')\n",
    "checkTgtSumRes(a4, 461, 0)\n",
    "\n",
    "\n",
    "print('--test 9--')\n",
    "checkTgtSumRes(a4, 462, 0)\n",
    "\n",
    "\n",
    "print('--test 9--')\n",
    "checkTgtSumRes(a4, 517, 0)\n",
    "\n",
    "\n",
    "print('--test 10--')\n",
    "checkTgtSumRes(a4, 975, 3)\n",
    "\n",
    "print('All Tests Passed (15 points)')\n",
    "\n"
   ]
  },
  {
   "cell_type": "markdown",
   "metadata": {},
   "source": [
    "# PRESS CTRL+ENTER"
   ]
  },
  {
   "cell_type": "markdown",
   "metadata": {},
   "source": [
    "# That's All Folks!"
   ]
  }
 ],
 "metadata": {
  "kernelspec": {
   "display_name": "Python 3",
   "language": "python",
   "name": "python3"
  },
  "language_info": {
   "codemirror_mode": {
    "name": "ipython",
    "version": 3
   },
   "file_extension": ".py",
   "mimetype": "text/x-python",
   "name": "python",
   "nbconvert_exporter": "python",
   "pygments_lexer": "ipython3",
   "version": "3.12.1"
  }
 },
 "nbformat": 4,
 "nbformat_minor": 2
}
