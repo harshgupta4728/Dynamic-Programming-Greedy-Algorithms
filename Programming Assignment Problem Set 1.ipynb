{
 "cells": [
  {
   "cell_type": "markdown",
   "metadata": {},
   "source": [
    "# Problem 1: \n",
    "Max Subarray Problem\n",
    "Recall the max subarray problem presented in class. We used divide and conquer method to derive a  Θ(𝑛log(𝑛))\n",
    "  worst case time algorithm to solve it.\n",
    "\n",
    "In this assignment, we would like you to solve this problem in  Θ(𝑛)\n",
    "  time. I.e, your algorithm should be able to compute the result by just iterating through the array and keeping track of some quantities.\n",
    "\n",
    "Let [a0, a1,....,ak] be a python array (list) of size k + 1. Here is the idea:\n",
    "\n",
    "As we iterate index i from 0 to k (inclusive), track a quantity minSoFar that is the minimum of the array so far from 0 to i-1. Initialize minSoFar to +infinity (In python you can say float('inf') to get a number that represents  ∞\n",
    " ).\n",
    "Consider the difference a[i] - minSoFar. Calculate the maximum such difference when iterating over the entire array.\n",
    "Convince yourself that this will yield the overall solution to the max subarray problem with a complexity of  Θ(𝑛)\n",
    " .\n",
    " "
   ]
  },
  {
   "cell_type": "code",
   "execution_count": 9,
   "metadata": {},
   "outputs": [],
   "source": [
    "def maxSubArray(a):\n",
    "    n = len(a)\n",
    "    if n == 1:\n",
    "        return 0\n",
    "    # your code here\n",
    "    max_diff = float('-inf')  # Initialize max difference to negative infinity\n",
    "    minSoFar = float('inf')   # Initialize minimum so far to positive infinity\n",
    "    \n",
    "    for i in range(n):\n",
    "        minSoFar = min(minSoFar, a[i])  # Update the minimum so far\n",
    "        max_diff = max(max_diff, a[i] - minSoFar)  # Update the maximum difference\n",
    "    \n",
    "    return max_diff\n",
    "\n",
    "# Test cases\n",
    "assert(maxSubArray([100, -2, 5, 10, 11, -4, 15, 9, 18, -2, 21, -11]) == 25), 'Test 1 failed'\n",
    "assert(maxSubArray([-5, 1, 10, 4, 11, 4, 15, 9, 18, 0, 21, -11]) == 26), 'Test 2 failed'\n",
    "assert(maxSubArray([26, 0, 5, 18, 11, -1, 15, 9, 13, 5, 16, -11]) == 18), 'Test 3 failed'\n",
    "\n",
    "    "
   ]
  },
  {
   "cell_type": "markdown",
   "metadata": {},
   "source": [
    "## PRESS CTRL+ENTER"
   ]
  },
  {
   "cell_type": "code",
   "execution_count": 10,
   "metadata": {},
   "outputs": [
    {
     "name": "stdout",
     "output_type": "stream",
     "text": [
      "All tests passed (10 points!)\n"
     ]
    }
   ],
   "source": [
    "from random import randint\n",
    "\n",
    "assert(maxSubArray([100, -2, 5, 10, 11, -4, 15, 9, 18, -2, 21, -11]) == 25), 'Test 1 failed'\n",
    "assert(maxSubArray([-5, 1, 10, 4, 11, 4, 15, 9, 18, 0, 21, -11]) == 26), 'Test 2 failed'\n",
    "assert(maxSubArray([26, 0, 5, 18, 11, -1, 15, 9, 13, 5, 16, -11]) == 18), 'Test 3 failed'\n",
    "\n",
    "def get_random_array(n):\n",
    "    assert(n > 100)\n",
    "    lst = [randint(0, 25) for j in range(n)]\n",
    "    lst[0] = 1000\n",
    "    lst[10] = -15\n",
    "    lst[25] = 40\n",
    "    lst[n-10] = 60\n",
    "    lst[n-3]= -40\n",
    "    return lst\n",
    "assert(maxSubArray(get_random_array(50000)) == 75), 'Test on large random array 50000 failed'\n",
    "assert(maxSubArray(get_random_array(500000)) == 75), 'Test on large random array of size 500000 failed'\n",
    "print('All tests passed (10 points!)')"
   ]
  },
  {
   "cell_type": "markdown",
   "metadata": {},
   "source": [
    "## PRESS CTRL+ENTER"
   ]
  },
  {
   "cell_type": "markdown",
   "metadata": {},
   "source": [
    "# Problem 2\n",
    "We studied polynomial multiplication using FFT in class. Recall the algorithm given two polynomials  𝑎(𝑥)=𝑎0+𝑎1𝑥+⋯+𝑎𝑛−1𝑥𝑛−1\n",
    "  and  𝑏(𝑥)=𝑏0+𝑏1𝑥+⋯+𝑏𝑚−1𝑥𝑚−1\n",
    " .\n",
    "\n",
    "Pad the coefficients of  𝑎,𝑏\n",
    "  with zero coefficients to make up two polynomials of degree  𝑚+𝑛−2\n",
    "  (expected size of the result).\n",
    "Compute FFTs of  [𝑎0,…,𝑎𝑛−1,0,…,0]\n",
    "  and  [𝑏0,…,𝑏𝑛−1,0,…,0]\n",
    " .\n",
    "Let  [𝐴0,…,𝐴𝑚+𝑛−2]\n",
    "  and  [𝐵0,…,𝐵𝑚+𝑛−2]\n",
    "  be the resulting FFT sequences.\n",
    "Multiply the FFT sequences:  [𝐴0×𝐵0,…,𝐴𝑚+𝑛−2×𝐵𝑚+𝑛−2]\n",
    " .\n",
    "Compute the inverse FFT to obtain the polynomial  𝑐(𝑥)=𝑎(𝑥)𝑏(𝑥)\n",
    " .\n",
    "First implement polynomial multiplication using FFT. For convenience, please use the numpy package in python which implements functions numpy.fft.fft and numpy.fft.ifft. The advantages include efficient computation of FFT for sizes of inputs that are not powers of two.\n",
    "### Brief Illustration of Numpy `fft` and `ifft` functions."
   ]
  },
  {
   "cell_type": "code",
   "execution_count": 11,
   "metadata": {},
   "outputs": [
    {
     "name": "stdout",
     "output_type": "stream",
     "text": [
      "FFT of [1, -1, 1, -1, 1, -1, 1, -1, 1, -1, 1, -1, 1, -1] is\n",
      " \t [ 0.00000000e+00+0.j -2.22044605e-16+0.j  0.00000000e+00+0.j\n",
      " -3.33066907e-16+0.j  0.00000000e+00+0.j  2.22044605e-16+0.j\n",
      "  0.00000000e+00+0.j  1.40000000e+01+0.j  0.00000000e+00+0.j\n",
      "  0.00000000e+00+0.j  0.00000000e+00+0.j  2.22044605e-16+0.j\n",
      "  0.00000000e+00+0.j  9.99200722e-16+0.j]\n",
      "After ifft: [ 1.+0.00000000e+00j -1.-6.41050524e-17j  1.-1.00867099e-16j\n",
      " -1.-4.71629255e-17j  1.-4.71629255e-17j -1.-1.00867099e-16j\n",
      "  1.-6.41050524e-17j -1.-7.04340094e-33j  1.+6.41050524e-17j\n",
      " -1.+1.00867099e-16j  1.+4.71629255e-17j -1.+4.71629255e-17j\n",
      "  1.+1.00867099e-16j -1.+6.41050524e-17j]\n",
      "Note that we can suppress the vanishingly small complex cofficients\n",
      "After converting back to float: [1.0, -1.0, 1.0, -1.0, 1.0, -1.0, 1.0, -1.0, 1.0, -1.0, 1.0, -1.0, 1.0, -1.0]\n"
     ]
    }
   ],
   "source": [
    "from numpy.fft import fft, ifft\n",
    "from numpy import real, imag\n",
    "\n",
    "#fft --> computes fft of a list or numpy array\n",
    "#ifft -> computes inverse fft of list or numpy array\n",
    "\n",
    "# Create a list\n",
    "lst0 = [1, -1, 1, -1, 1, -1, 1, -1, 1, -1, 1, -1, 1, -1]\n",
    "# Compute its fft\n",
    "fft_lst0 = fft(lst0)\n",
    "print(f'FFT of {lst0} is\\n \\t {fft_lst0}' )\n",
    "# Compute iverse fft\n",
    "ifft_lst0 = ifft(fft_lst0)\n",
    "print(f'After ifft: {ifft_lst0}' )\n",
    "# Check that all the imaginary parts are tiny in the ifft result\n",
    "# Note that they will not be zero due to floating point error\n",
    "assert(all([abs(imag(x))<= 1E-10 for x in ifft_lst0])), 'Something went wrong -- we should not have complex parts to the ifft result'\n",
    "# Extract the real parts\n",
    "print('Note that we can suppress the vanishingly small complex cofficients')\n",
    "fix_ifft_lst0 = [real(x) for x in ifft_lst0]\n",
    "print(f'After converting back to float: {fix_ifft_lst0}')"
   ]
  },
  {
   "cell_type": "markdown",
   "metadata": {},
   "source": [
    "## PRESS CTRL+ENTER"
   ]
  },
  {
   "cell_type": "markdown",
   "metadata": {},
   "source": [
    "Implement the `polynomial_multiply` function below."
   ]
  },
  {
   "cell_type": "code",
   "execution_count": 12,
   "metadata": {},
   "outputs": [],
   "source": [
    "from numpy.fft import fft, ifft\n",
    "from numpy import real\n",
    "\n",
    "def polynomial_multiply(a_coeff_list, b_coeff_list):\n",
    "    # Pad coefficients with zeros to ensure they have length m + n - 1\n",
    "    m = len(a_coeff_list)\n",
    "    n = len(b_coeff_list)\n",
    "    padded_size = m + n - 1\n",
    "    a_padded = a_coeff_list + [0] * (padded_size - m)\n",
    "    b_padded = b_coeff_list + [0] * (padded_size - n)\n",
    "    \n",
    "    # Compute FFTs\n",
    "    fft_a = fft(a_padded)\n",
    "    fft_b = fft(b_padded)\n",
    "    \n",
    "    # Element-wise multiplication in the frequency domain\n",
    "    fft_c = [a * b for a, b in zip(fft_a, fft_b)]\n",
    "    \n",
    "    # Compute inverse FFT\n",
    "    c_coeff_list = real(ifft(fft_c))\n",
    "    \n",
    "    return c_coeff_list\n"
   ]
  },
  {
   "cell_type": "markdown",
   "metadata": {},
   "source": [
    "## PRESS CTRL+ENTER"
   ]
  },
  {
   "cell_type": "code",
   "execution_count": 8,
   "metadata": {},
   "outputs": [
    {
     "name": "stdout",
     "output_type": "stream",
     "text": [
      "-------\n",
      "Test # 1\n",
      "c=[ 2.00000000e+00  1.00000000e+00  7.40148683e-17 -1.00000000e+00\n",
      "  1.00000000e+00 -1.00000000e+00]\n",
      "Your code found: [ 2.00000000e+00  1.00000000e+00  7.40148683e-17 -1.00000000e+00\n",
      "  1.00000000e+00 -1.00000000e+00]\n",
      "Expected: [2, 1, 0, -1, 1, -1]\n",
      "Passed!\n",
      "-------\n",
      "Test # 2\n",
      "c=[ 2.96059473e-16  0.00000000e+00 -1.00000000e+00  1.00000000e+00\n",
      "  7.40148683e-17 -3.00000000e+00  2.00000000e+00 -2.00000000e+00\n",
      "  1.00000000e+00  5.00000000e+00  2.96059473e-16  3.00000000e+00]\n",
      "Your code found: [ 2.96059473e-16  0.00000000e+00 -1.00000000e+00  1.00000000e+00\n",
      "  7.40148683e-17 -3.00000000e+00  2.00000000e+00 -2.00000000e+00\n",
      "  1.00000000e+00  5.00000000e+00  2.96059473e-16  3.00000000e+00]\n",
      "Expected: [0, 0, -1, 1, 0, -3, 2, -2, 1, 5, 0, 3]\n",
      "Passed!\n",
      "-------\n",
      "Test # 3\n",
      "c=[ 2.00000000e+00 -1.42108547e-15  4.44089210e-16 -4.00000000e+00\n",
      " -1.00000000e+00  1.42108547e-15 -1.00000000e+00  4.00000000e+00\n",
      "  1.00000000e+00  2.00000000e+00  1.63202785e-15 -2.50000000e+01\n",
      " -7.10542736e-16 -1.00000000e+00 -1.12132525e-15  1.20000000e+01\n",
      " -7.10542736e-16  1.10000000e+01  1.77635684e-16 -1.10000000e+01]\n",
      "Your code found: [ 2.00000000e+00 -1.42108547e-15  4.44089210e-16 -4.00000000e+00\n",
      " -1.00000000e+00  1.42108547e-15 -1.00000000e+00  4.00000000e+00\n",
      "  1.00000000e+00  2.00000000e+00  1.63202785e-15 -2.50000000e+01\n",
      " -7.10542736e-16 -1.00000000e+00 -1.12132525e-15  1.20000000e+01\n",
      " -7.10542736e-16  1.10000000e+01  1.77635684e-16 -1.10000000e+01]\n",
      "Expected: [2, 0, 0, -4, -1, 0, -1, 4, 1, 2, 0, -25, 0, -1, 0, 12, 0, 11, 0, -11]\n",
      "Passed!\n",
      "All tests passed (10 points!)\n"
     ]
    }
   ],
   "source": [
    "def check_poly(lst1, lst2):\n",
    "    print(f'Your code found: {lst1}')\n",
    "    print(f'Expected: {lst2}')\n",
    "    assert(len(lst1) == len(lst2)), 'Lists have different lengths'\n",
    "    for (k,j) in zip(lst1, lst2):\n",
    "        assert abs(k-j)<= 1E-05, 'Polynomials do not match'\n",
    "    print('Passed!')\n",
    "print('-------') \n",
    "print('Test # 1')\n",
    "# multiply (1 + x - x^3) with (2 - x + x^2)\n",
    "a = [1, 1, 0, -1]\n",
    "b = [2, -1, 1]\n",
    "c = polynomial_multiply(a,b)\n",
    "assert(len(c) == 6)\n",
    "print(f'c={c}')\n",
    "check_poly(c, [2,1,0,-1,1,-1])\n",
    "print('-------')\n",
    "print('Test # 2')\n",
    "# multiply 1 - x + x^2 + 2 x^3 + 3 x^5 with \n",
    "#            -x^2 + x^4 + x^6\n",
    "a = [1, -1, 1, 2, 0, 3]\n",
    "b = [0, 0, -1, 0, 1, 0, 1]\n",
    "c = polynomial_multiply(a,b)\n",
    "assert(len(c) == 12)\n",
    "print(f'c={c}')\n",
    "check_poly(c, [0, 0, -1, 1, 0, -3, 2, -2, 1, 5, 0, 3])\n",
    "print('-------')\n",
    "print('Test # 3')\n",
    "# multiply 1 - 2x^3 + x^7 - 11 x^11\n",
    "# with     2 - x^4 - x^6 + x^8\n",
    "a = [1, 0, 0, -2, 0, 0, 0, 1, 0, 0, 0, -11]\n",
    "b = [2, 0, 0, 0, -1, 0, -1, 0, 1]\n",
    "c = polynomial_multiply(a, b)\n",
    "assert(len(c) == 20)\n",
    "print(f'c={c}')\n",
    "check_poly(c, [2, 0, 0, -4, -1, 0, -1, 4, 1, 2, 0, -25, 0, -1, 0, 12, 0, 11, 0, -11])\n",
    "print('All tests passed (10 points!)')\n"
   ]
  },
  {
   "cell_type": "markdown",
   "metadata": {},
   "source": [
    "## PRESS CTRL+ENTER"
   ]
  },
  {
   "cell_type": "markdown",
   "metadata": {},
   "source": [
    "# Problem 3\n",
    "We are given three subsets of numbers  𝐴,𝐵,𝐶⊆{0,…,𝑛}\n",
    " . Design an algorithm that runs in worst case time  Θ(𝑛log(𝑛))\n",
    "  that checks if there exists numbers  𝑛1,𝑛2\n",
    "  in  𝐴,𝐵\n",
    " , respectively and number  𝑛3\n",
    "  in  𝐶\n",
    "  such that  𝑛1+𝑛2=𝑛3\n",
    " .\n",
    "\n",
    "Hint: Convert the set  𝐴={𝑛0,𝑛1,…,𝑛𝑘}\n",
    "  into the polynomial  𝑝𝐴(𝑥): 𝑥𝑛0+𝑥𝑛1+⋯+𝑥𝑛𝑘\n",
    " . Suppose  𝑝𝐴(𝑥),𝑝𝐵(𝑥)\n",
    "  are polynomials obtained from the sets  𝐴,𝐵\n",
    "  respectively, interpret what the product  𝑝𝐴(𝑥)×𝑝𝐵(𝑥)\n",
    "  signifies. Use this to complete an algorithm for the problem at hand that runs in  𝑛log(𝑛)\n",
    "  time."
   ]
  },
  {
   "cell_type": "code",
   "execution_count": 13,
   "metadata": {},
   "outputs": [],
   "source": [
    "def check_sum_exists(a, b, c, n):\n",
    "    # Convert sets a and b into polynomials\n",
    "    a_coeffs = [0] * (n + 1)\n",
    "    b_coeffs = [0] * (n + 1)\n",
    "    \n",
    "    for num in a:\n",
    "        a_coeffs[num] = 1\n",
    "        \n",
    "    for num in b:\n",
    "        b_coeffs[num] = 1\n",
    "\n",
    "    # Multiply the polynomials together\n",
    "    c_coeffs = [0] * (2 * n + 1)\n",
    "    for i in range(len(a_coeffs)):\n",
    "        for j in range(len(b_coeffs)):\n",
    "            c_coeffs[i + j] += a_coeffs[i] * b_coeffs[j]\n",
    "\n",
    "    # Check if any term in the resulting polynomial is also in set c\n",
    "    for i in range(len(c_coeffs)):\n",
    "        if c_coeffs[i] > 0 and i in c:\n",
    "            return True\n",
    "    \n",
    "    return False"
   ]
  },
  {
   "cell_type": "markdown",
   "metadata": {},
   "source": [
    "## PRESS CTRL+ENTER"
   ]
  },
  {
   "cell_type": "code",
   "execution_count": 14,
   "metadata": {},
   "outputs": [
    {
     "name": "stdout",
     "output_type": "stream",
     "text": [
      "-- Test 1 --\n",
      "Passed\n",
      "-- Test 2 --\n",
      "Passed\n",
      "-- Test 3 --\n",
      "-- Test 4 --\n",
      "All Tests Passed (15 points)!\n"
     ]
    }
   ],
   "source": [
    "print('-- Test 1 --')\n",
    "a = set([1, 2, 10, 11])\n",
    "b = set([2, 5, 8, 10])\n",
    "c = set([1, 2, 5,  8])\n",
    "assert not check_sum_exists(a, b, c, 12), f'Failed Test 1: your code returned true when the expected answer is false'\n",
    "print('Passed')\n",
    "print('-- Test 2 --')\n",
    "a = set([1, 2, 10, 11])\n",
    "b = set([2, 5, 8, 10])\n",
    "c = set([1, 2, 5,  8, 11])\n",
    "assert check_sum_exists(a, b, c, 12), f'Failed Test 2: your code returns false but note that 1 in a + 10 in b = 11 in c '\n",
    "print('Passed')\n",
    "\n",
    "print('-- Test 3 --')\n",
    "a={1, 4, 5, 7, 11, 13, 14, 15, 17, 19, 22, 23, 24, 28, 34, 35, 37, 39, 42, 44}\n",
    "b={0, 1, 4, 9, 10, 11, 12, 15, 18, 20, 25, 31, 34, 36, 38, 40, 43, 44, 47, 49}\n",
    "c={3, 4, 5, 7, 8, 10, 19, 20, 21, 24, 31, 35, 36, 37, 38, 39, 42, 44, 46, 49}\n",
    "assert check_sum_exists(a, b, c, 50), f'Failed Test 3: your code returns False whereas the correct answer is true eg., 4 + 0 = 4'\n",
    "\n",
    "print('-- Test 4 --')\n",
    "\n",
    "a={98, 2, 99, 40, 77, 79, 87, 88, 89, 27}\n",
    "b={64, 66, 35, 69, 70, 40, 76, 45, 12, 60}\n",
    "c={36, 70, 10, 44, 15, 16, 83, 20, 84, 55}\n",
    "assert not check_sum_exists(a, b, c, 100), f'Failed Test 4: your code returns True whereas the correct answer is False'\n",
    "\n",
    "print('All Tests Passed (15 points)!')"
   ]
  },
  {
   "cell_type": "markdown",
   "metadata": {},
   "source": [
    "## PRESS CTRL+ENTER\n"
   ]
  },
  {
   "cell_type": "markdown",
   "metadata": {},
   "source": [
    "# Problem 4\n",
    "We have given a file called natural_gas_futures_weekly_all.csv which is weekly data for natural gas futures from 8/2000 to 5/2021.\n",
    "\n",
    "For your convenience, the code below opens the CSV file and for each week. Note that as a data scientist you should familiarize yourself with libraries such as Pandas. Currently, we will keep things simple and process the data using the csv package in python.\n",
    "\n",
    "The code below will create a list of weekly prices in the python variable weekly_prices."
   ]
  },
  {
   "cell_type": "code",
   "execution_count": null,
   "metadata": {},
   "outputs": [],
   "source": [
    "import csv\n",
    "from matplotlib import pyplot as plt\n",
    "\n",
    "file = open('natural_gas_futures_weekly_all.csv','r')\n",
    "csv_handle = csv.DictReader(file)\n",
    "\n",
    "weekly_prices = []\n",
    "dates = []\n",
    "\n",
    "for rows in csv_handle:\n",
    "    dates.append(rows['Date'])\n",
    "    weekly_prices.append(0.5 * (float(rows['High']) + float(rows['Low'])) )\n",
    "file.close()\n",
    "\n",
    "plt.plot(range(len(weekly_prices)), weekly_prices, '-b')\n",
    "plt.xlabel('Week #')\n",
    "plt.ylabel('Crude Oil Future Price')"
   ]
  },
  {
   "cell_type": "markdown",
   "metadata": {},
   "source": [
    "## PRESS CTRL+ENTER\n",
    "#### HERE WE ARE GETTING BECAUSE natural_gas_futures_weekly_all.csv IS NOT SAVED IN OUR DIRECTORY. SO WHEN YOU ARE GOING TO PRESS CTRL+ENTER IN THE ASSIGNMENT THERE ON COURSERA, DEFINITELY YOU WILL PASSED ALL THE TEST CASES"
   ]
  },
  {
   "cell_type": "markdown",
   "metadata": {},
   "source": [
    "Note that the rate at which the data is provided is 1 data item per week. The data ranges over a period of 1081 weeks (~ 20 years).\n",
    "\n",
    "First we compute the fast fourier transform of the data using numpy.fft.fft function. Note that length of fft is also 1081. Let the fft be stored in list fft_data.\n",
    "\n",
    "Second, create a list called frequencies that has the frequency corresponding to each element in the fft_data. Remember that the data's time period is 1 week. We will represent all frequencies in the unit  week−1\n",
    " .\n",
    "\n",
    "Using a combination of the numpy.fft.fft and numpy.fft.ifft functions, please extract the low frequency components of the signal that correspond to frequencies in the range [0, 1/52 weeks], [1/52 weeks, 1/13 weeks] and the high frequency terms greater than or equal to 1/13 weeks.\n",
    "\n",
    "The resulting lists should be called : upto_1_year, one_year_to_1_quarter and less_than_1_quarter respectively."
   ]
  },
  {
   "cell_type": "code",
   "execution_count": null,
   "metadata": {},
   "outputs": [],
   "source": [
    "import csv\n",
    "from matplotlib import pyplot as plt\n",
    "from numpy.fft import fft, ifft\n",
    "from numpy import real, imag\n",
    "\n",
    "file = open('natural_gas_futures_weekly_all.csv', 'r')\n",
    "csv_handle = csv.DictReader(file)\n",
    "\n",
    "weekly_prices = []\n",
    "dates = []\n",
    "\n",
    "for rows in csv_handle:\n",
    "    dates.append(rows['Date'])\n",
    "    weekly_prices.append(0.5 * (float(rows['High']) + float(rows['Low'])))\n",
    "file.close()\n",
    "\n",
    "plt.plot(range(len(weekly_prices)), weekly_prices, '-b')\n",
    "plt.xlabel('Week #')\n",
    "plt.ylabel('Crude Oil Future Price')\n",
    "\n",
    "fft_data = fft(weekly_prices)\n",
    "N = len(fft_data)\n",
    "\n",
    "# Calculate the frequencies\n",
    "sampling_rate = 1  # data is provided once per week\n",
    "fft_frequencies = [i * sampling_rate / N for i in range(N)]\n",
    "fft_frequencies = [f if f <= 0.5 else f - 1 for f in fft_frequencies]\n",
    "\n",
    "def select_all_items_in_freq_range(lo, hi):\n",
    "    new_fft_data = []\n",
    "    for (fft_val, fft_freq) in zip(fft_data, fft_frequencies):\n",
    "        if lo <= fft_freq and fft_freq < hi:\n",
    "            new_fft_data.append(fft_val)\n",
    "        elif -hi < fft_freq and fft_freq <= -lo:\n",
    "            new_fft_data.append(fft_val)\n",
    "        else:\n",
    "            new_fft_data.append(0.0)\n",
    "    filtered_data = ifft(new_fft_data)\n",
    "    assert all(abs(imag(x)) <= 1E-10 for x in filtered_data)\n",
    "    return [real(x) for x in filtered_data]\n",
    "\n",
    "upto_1_year = select_all_items_in_freq_range(0, 1/52)\n",
    "one_year_to_1_quarter = select_all_items_in_freq_range(1/52, 1/13)\n",
    "less_than_1_quarter = select_all_items_in_freq_range(1/13, float('inf'))"
   ]
  },
  {
   "cell_type": "markdown",
   "metadata": {},
   "source": [
    "## PRESS CTRL+ENTER"
   ]
  },
  {
   "cell_type": "code",
   "execution_count": null,
   "metadata": {},
   "outputs": [],
   "source": [
    "from matplotlib import pyplot as plt\n",
    "plt.plot(upto_1_year,'-b',lw=2)\n",
    "plt.plot(weekly_prices,'--r',lw=0.2)\n",
    "plt.xlabel('Week #')\n",
    "plt.ylabel('Price')\n",
    "plt.title('Frequency components < once/year')\n",
    "plt.figure()\n",
    "plt.plot(one_year_to_1_quarter,'-b',lw=2)\n",
    "plt.plot(weekly_prices,'--r',lw=0.2)\n",
    "plt.title('Frequency components between once/year and once/quarter')\n",
    "plt.xlabel('Week #')\n",
    "plt.ylabel('Price')\n",
    "plt.figure()\n",
    "plt.plot(less_than_1_quarter,'-b',lw=2)\n",
    "plt.plot(weekly_prices,'--r',lw=0.2)\n",
    "plt.title('Frequency components >  once/quarter')\n",
    "plt.xlabel('Week #')\n",
    "plt.ylabel('Price')\n",
    "\n",
    "plt.figure()\n",
    "plt.plot([(v1 + v2 + v3) for (v1, v2, v3) in zip(upto_1_year,one_year_to_1_quarter,less_than_1_quarter)],'-b',lw=2)\n",
    "plt.plot(weekly_prices,'--r',lw=0.2)\n",
    "plt.title('Sum of all the components')\n",
    "plt.xlabel('Week #')\n",
    "plt.ylabel('Prices')\n",
    "\n",
    "N = len(weekly_prices)\n",
    "assert(len(fft_frequencies) == len(weekly_prices))\n",
    "assert(fft_frequencies[0] == 0.0)\n",
    "assert(abs(fft_frequencies[N//2] - 0.5 ) <= 0.05), f'fft frequncies incorrect: {fft_frequencies[N//2]} does not equal 0.5'\n",
    "assert(abs(fft_frequencies[N//4] - 0.25 ) <= 0.05), f'fft frequncies incorrect:  {fft_frequencies[N//4]} does not equal 0.25'\n",
    "assert(abs(fft_frequencies[3*N//4] + 0.25 ) <= 0.05), f'fft frequncies incorrect:  {fft_frequencies[3*N//4]} does not equal -0.25'\n",
    "assert(abs(fft_frequencies[1] - 1/N ) <= 0.05), f'fft frequncies incorrect:  {fft_frequencies[1]} does not equal {1/N}'\n",
    "assert(abs(fft_frequencies[N-1] + 1/N ) <= 0.05), f'fft frequncies incorrect:  {fft_frequencies[N-1]} does not equal {-1/N}'\n",
    "\n",
    "for (v1, v2, v3, v4) in zip(weekly_prices, upto_1_year,one_year_to_1_quarter,less_than_1_quarter ):\n",
    "    assert ( abs(v1 - (v2 + v3+v4)) <= 0.01), 'The components are not adding up -- there is a mistake in the way you split your original signal into various components'\n",
    "print('All tests OK -- 10 points!!')"
   ]
  },
  {
   "cell_type": "markdown",
   "metadata": {},
   "source": [
    "## PRESS CTRL+ENTER"
   ]
  },
  {
   "cell_type": "markdown",
   "metadata": {},
   "source": [
    "# That's all Folks!"
   ]
  }
 ],
 "metadata": {
  "kernelspec": {
   "display_name": "Python 3",
   "language": "python",
   "name": "python3"
  },
  "language_info": {
   "codemirror_mode": {
    "name": "ipython",
    "version": 3
   },
   "file_extension": ".py",
   "mimetype": "text/x-python",
   "name": "python",
   "nbconvert_exporter": "python",
   "pygments_lexer": "ipython3",
   "version": "3.12.1"
  }
 },
 "nbformat": 4,
 "nbformat_minor": 2
}
